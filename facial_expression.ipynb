{
 "cells": [
  {
   "cell_type": "code",
   "execution_count": 25,
   "metadata": {},
   "outputs": [
    {
     "name": "stdout",
     "output_type": "stream",
     "text": [
      
     ]
    },
    {
     "name": "stdout",
     "output_type": "stream",
     "text": [
      
     ]
    }
   ],
   "source": [
    "#Data loading and preprocessing\n",
    "\n",
    "from os import listdir\n",
    "from os.path import isdir\n",
    "from PIL import Image\n",
    "from matplotlib import pyplot\n",
    "from numpy import savez_compressed\n",
    "from numpy import asarray\n",
    "from mtcnn.mtcnn import MTCNN\n",
    "\n",
    "def extract_face(filename, required_size=(160, 160)):\n",
    "    # load image from file\n",
    "    image = Image.open(filename)\n",
    "    image = image.convert('RGB')\n",
    "    pixels = asarray(image)\n",
    "    detector = MTCNN()\n",
    "    results = detector.detect_faces(pixels)\n",
    "    #Finding dimensions for the box\n",
    "    x1, y1, width, height = results[0]['box']\n",
    "    x1, y1 = abs(x1), abs(y1)\n",
    "    x2, y2 = x1 + width, y1 + height\n",
    "    # extracting face\n",
    "    face = pixels[y1:y2, x1:x2]\n",
    "    # resizing pixels to match with embedding model input size\n",
    "    image = Image.fromarray(face)\n",
    "    image = image.resize(required_size)\n",
    "    face_array = asarray(image)\n",
    "    print(filename + ' extracted')\n",
    "    return face_array\n",
    "\n",
    "def load_faces(directory, train_test=0):\n",
    "    faces = list()\n",
    "    if train_test==0:\n",
    "        files = listdir(directory)[:138]\n",
    "    else:\n",
    "        files = listdir(directory)[138:]\n",
    "    for filename in files:\n",
    "        path = directory + filename\n",
    "        face = extract_face(path)\n",
    "        faces.append(face)\n",
    "    return faces\n",
    "\n",
    "def load_dataset(directory, train_test=0):\n",
    "    faces = load_faces(directory, train_test)\n",
    "    if train_test==0:\n",
    "        files = listdir(directory)[:138]\n",
    "    else:\n",
    "        files = listdir(directory)[138:]\n",
    "    labels = [filename[filename.find('.')+1:filename.find('.')+3] for filename in files]\n",
    "    return asarray(faces), asarray(labels)\n",
    "\n",
    "#Train Test ratio is 65/35 which corresponds to 138 train images and rest test images\n",
    "# load train dataset\n",
    "trainX, trainy = load_dataset('Expression_Data/', 0)\n",
    "print(trainX.shape, trainy.shape)\n",
    "# load test dataset\n",
    "testX, testy = load_dataset('Expression_Data/', 1)\n",
    "save arrays to one file in compressed format\n",
    "savez_compressed('expression-dataset.npz', trainX, trainy, testX, testy)"
   ]
  },
  {
   "cell_type": "code",
   "execution_count": 27,
   "metadata": {},
   "outputs": [
    {
     "name": "stdout",
     "output_type": "stream",
     "text": [
      "Loaded:  (138, 160, 160, 3) (138,) (75, 160, 160, 3) (75,)\n"
     ]
    },
    {
     "name": "stderr",
     "output_type": "stream",
     "text": [
      "/home/ankitsingh/.local/lib/python3.6/site-packages/keras/engine/saving.py:341: UserWarning: No training configuration found in save file: the model was *not* compiled. Compile it manually.\n",
      "  warnings.warn('No training configuration found in save file: '\n"
     ]
    },
    {
     "name": "stdout",
     "output_type": "stream",
     "text": [
      "Loaded Model\n",
      "(138, 128)\n",
      "(75, 128)\n"
     ]
    }
   ],
   "source": [
    "#For generating face embeddings using a pretrained model based on facenet\n",
    "\n",
    "from numpy import load\n",
    "from numpy import expand_dims\n",
    "from numpy import asarray\n",
    "from numpy import savez_compressed\n",
    "from keras.models import load_model\n",
    "\n",
    "def get_embedding(model, face_pixels):\n",
    "    face_pixels = face_pixels.astype('float32')\n",
    "    mean, std = face_pixels.mean(), face_pixels.std()\n",
    "    face_pixels = (face_pixels - mean) / std\n",
    "    samples = expand_dims(face_pixels, axis=0)\n",
    "    yhat = model.predict(samples)\n",
    "    return yhat[0]\n",
    "\n",
    "data = load('expression-dataset.npz')\n",
    "trainX, trainy, testX, testy = data['arr_0'], data['arr_1'], data['arr_2'], data['arr_3']\n",
    "print('Loaded: ', trainX.shape, trainy.shape, testX.shape, testy.shape)\n",
    "model = load_model('facenet_keras.h5')\n",
    "print('Loaded Model')\n",
    "newTrainX = list()\n",
    "for face_pixels in trainX:\n",
    "    embedding = get_embedding(model, face_pixels)\n",
    "    newTrainX.append(embedding)\n",
    "newTrainX = asarray(newTrainX)\n",
    "print(newTrainX.shape)\n",
    "newTestX = list()\n",
    "for face_pixels in testX:\n",
    "    embedding = get_embedding(model, face_pixels)\n",
    "    newTestX.append(embedding)\n",
    "newTestX = asarray(newTestX)\n",
    "print(newTestX.shape)\n",
    "savez_compressed('expression-embeddings.npz', newTrainX, trainy, newTestX, testy)"
   ]
  },
  {
   "cell_type": "code",
   "execution_count": 29,
   "metadata": {},
   "outputs": [
    {
     "name": "stdout",
     "output_type": "stream",
     "text": [
      "Dataset: train=138, test=75\n"
     ]
    }
   ],
   "source": [
    "#Model Training\n",
    "\n",
    "from numpy import load\n",
    "from sklearn.metrics import accuracy_score\n",
    "from sklearn.preprocessing import LabelEncoder\n",
    "from sklearn.preprocessing import Normalizer\n",
    "from sklearn.svm import SVC\n",
    "from sklearn.model_selection import GridSearchCV\n",
    "\n",
    "data = load('expression-embeddings.npz')\n",
    "trainX, trainy, testX, testy = data['arr_0'], data['arr_1'], data['arr_2'], data['arr_3']\n",
    "print('Dataset: train=%d, test=%d' % (trainX.shape[0], testX.shape[0]))\n",
    "\n",
    "in_encoder = Normalizer(norm='l2')\n",
    "trainX = in_encoder.transform(trainX)\n",
    "testX = in_encoder.transform(testX)\n",
    "\n",
    "out_encoder = LabelEncoder()\n",
    "out_encoder.fit(trainy)\n",
    "trainy = out_encoder.transform(trainy)\n",
    "testy = out_encoder.transform(testy)\n",
    "\n",
    "tuned_parameters = [{'kernel': ['rbf'], 'gamma': [1e-3, 1e-4],\n",
    "                     'C': [1, 10, 100, 1000]},\n",
    "                    {'kernel': ['linear'], 'C': [1, 10, 100, 1000]},\n",
    "                    {'kernel': ['poly'],\n",
    "                     'C': [1, 10, 100, 1000]}\n",
    "                   ]\n",
    "\n",
    "#Using GridSearchCV to find the best tuned model\n",
    "clf = GridSearchCV(SVC(), tuned_parameters, cv=2, scoring='accuracy')\n",
    "clf.fit(trainX, trainy)\n",
    "\n",
    "yhat_train = clf.predict(trainX)\n",
    "yhat_test = clf.predict(testX)"
   ]
  },
  {
   "cell_type": "code",
   "execution_count": 33,
   "metadata": {},
   "outputs": [
    {
     "name": "stdout",
     "output_type": "stream",
     "text": [
      "Training F1 score:  1.0\n",
      "Testing F1 score:  0.8133333333333334\n",
      "Classification Report:                precision    recall  f1-score   support\n",
      "\n",
      "           0       0.90      0.82      0.86        11\n",
      "           1       0.92      1.00      0.96        11\n",
      "           2       0.50      0.75      0.60         8\n",
      "           3       0.89      1.00      0.94         8\n",
      "           4       0.77      1.00      0.87        10\n",
      "           5       0.75      0.46      0.57        13\n",
      "           6       1.00      0.79      0.88        14\n",
      "\n",
      "    accuracy                           0.81        75\n",
      "   macro avg       0.82      0.83      0.81        75\n",
      "weighted avg       0.83      0.81      0.81        75\n",
      "\n"
     ]
    }
   ],
   "source": [
    "#Model evaluation\n",
    "\n",
    "from sklearn.metrics import f1_score\n",
    "from sklearn.metrics import classification_report\n",
    "print('Training F1 score: ', f1_score(trainy, yhat_train, average='micro'))\n",
    "print('Testing F1 score: ', f1_score(testy, yhat_test, average='micro'))\n",
    "\n",
    "print('Classification Report: ', classification_report(testy, yhat_test))"
   ]
  }
 ],
 "metadata": {
  "kernelspec": {
   "display_name": "Python 3",
   "language": "python",
   "name": "python3"
  },
  "language_info": {
   "codemirror_mode": {
    "name": "ipython",
    "version": 3
   },
   "file_extension": ".py",
   "mimetype": "text/x-python",
   "name": "python",
   "nbconvert_exporter": "python",
   "pygments_lexer": "ipython3",
   "version": "3.6.9"
  }
 },
 "nbformat": 4,
 "nbformat_minor": 2
}
